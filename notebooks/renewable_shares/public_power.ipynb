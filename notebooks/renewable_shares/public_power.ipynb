{
 "cells": [
  {
   "cell_type": "markdown",
   "metadata": {},
   "source": [
    "# Get Renewable Share Data for Past 5 Years"
   ]
  },
  {
   "cell_type": "markdown",
   "metadata": {},
   "source": [
    "de - Germany\n",
    "ch - Switzerland\n",
    "eu - European Union\n",
    "all - Europe\n",
    "al - Albania\n",
    "am - Armenia\n",
    "at - Austria\n",
    "az - Azerbaijan\n",
    "ba - Bosnia-Herzegovina\n",
    "be - Belgium\n",
    "bg - Bulgaria\n",
    "by - Belarus\n",
    "cy - Cyprus\n",
    "cz - Czech Republic\n",
    "dk - Denmark\n",
    "ee - Estonia\n",
    "es - Spain\n",
    "fi - Finland\n",
    "fr - France\n",
    "ge - Georgia\n",
    "gr - Greece\n",
    "hr - Croatia\n",
    "hu - Hungary\n",
    "ie - Ireland\n",
    "it - Italy\n",
    "lt - Lithuania\n",
    "lu - Luxembourg\n",
    "lv - Latvia\n",
    "md - Moldova\n",
    "me - Montenegro\n",
    "mk - North Macedonia\n",
    "mt - Malta\n",
    "nie - North Ireland\n",
    "nl - Netherlands\n",
    "no - Norway\n",
    "pl - Poland\n",
    "pt - Portugal\n",
    "ro - Romania\n",
    "rs - Serbia\n",
    "ru - Russia\n",
    "se - Sweden\n",
    "si - Slovenia\n",
    "sk - Slovak Republic\n",
    "tr - Turkey\n",
    "ua - Ukraine\n",
    "uk - United Kingdom\n",
    "xk - Kosovo"
   ]
  },
  {
   "cell_type": "code",
   "execution_count": 68,
   "metadata": {},
   "outputs": [],
   "source": [
    "def get_renewable_share_data(country_code, rs, l):\n",
    "    import requests\n",
    "    import json\n",
    "    import pandas as pd\n",
    "\n",
    "    url = \"https://api.energy-charts.info/public_power?\"\n",
    "    country = country_code\n",
    "    start= \"2019-01-01\"\n",
    "    stop= \"2025-01-01\"\n",
    "    req = requests.get(url + \"country=\" + country + \"&start=\" + start + \"&end=\" + stop)\n",
    "    data = req.json()\n",
    "    ren_share =pd.json_normalize(data[\"production_types\"][rs]).explode(\"data\").reset_index().drop([\"index\", \"name\"], axis = 1)\n",
    "    ren_share = ren_share.rename(columns={'data': 'ren_share'})\n",
    "    load =pd.json_normalize(data[\"production_types\"][l]).explode(\"data\").reset_index().drop([\"index\", \"name\"], axis = 1)\n",
    "    load = load.rename(columns={'data': 'load'})\n",
    "    time = pd.DataFrame(data[\"unix_seconds\"], columns=[\"unix_seconds\"])\n",
    "    time[\"datetime\"] = pd.to_datetime(time[\"unix_seconds\"], unit=\"s\")\n",
    "    data_df = pd.concat([time, ren_share, load], axis = 1)\n",
    "    data_df[\"year\"] = data_df[\"datetime\"].dt.year\n",
    "    grouped_df = data_df.groupby(\"year\")[[\"load\", \"ren_share\"]].mean().reset_index()\n",
    "    return grouped_df"
   ]
  },
  {
   "cell_type": "code",
   "execution_count": 82,
   "metadata": {},
   "outputs": [],
   "source": [
    "import pandas as pd\n",
    "countries = [\"de\", \"fr\", \"dk\", \"nl\", \"pl\", \"ie\"]\n",
    "ren = [20, 15, 11, 12, 13, 12]\n",
    "total = [18, 13, 9, 10, 11, 10]\n",
    "for i, j, country in zip(ren, total, countries):\n",
    "    df = get_renewable_share_data(country, i, j)\n",
    "    df.to_csv(\"renewable_shares_\"+country, index=False)"
   ]
  }
 ],
 "metadata": {
  "kernelspec": {
   "display_name": "energy_invest",
   "language": "python",
   "name": "python3"
  },
  "language_info": {
   "codemirror_mode": {
    "name": "ipython",
    "version": 3
   },
   "file_extension": ".py",
   "mimetype": "text/x-python",
   "name": "python",
   "nbconvert_exporter": "python",
   "pygments_lexer": "ipython3",
   "version": "3.13.1"
  }
 },
 "nbformat": 4,
 "nbformat_minor": 2
}
