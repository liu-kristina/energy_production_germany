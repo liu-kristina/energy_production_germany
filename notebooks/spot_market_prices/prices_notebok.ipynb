{
 "cells": [
  {
   "cell_type": "markdown",
   "metadata": {},
   "source": [
    "### Importing Data"
   ]
  },
  {
   "cell_type": "markdown",
   "metadata": {},
   "source": [
    "Country Codes: \n",
    "\n",
    "AT (Austria)\n",
    "BE (Belgium)\n",
    "CH (Switzerland)\n",
    "CZ (Czech Republic)\n",
    "DE-LU (Germany, Luxembourg)\n",
    "DE-AT-LU (Germany, Austria, Luxembourg)\n",
    "DK1 (Denmark 1)\n",
    "DK2 (Denmark 2)\n",
    "FR (France)\n",
    "HU (Hungary)\n",
    "IT-North (Italy North)\n",
    "NL (Netherlands)\n",
    "NO2 (Norway 2)\n",
    "PL (Poland)\n",
    "SE4 (Sweden 4)\n",
    "SI (Slovenia)"
   ]
  },
  {
   "cell_type": "markdown",
   "metadata": {},
   "source": [
    "Code for creating price dataframe:"
   ]
  },
  {
   "cell_type": "code",
   "execution_count": 14,
   "metadata": {},
   "outputs": [],
   "source": [
    "def create_price_dataframe(country_code):\n",
    "    import requests\n",
    "    import json\n",
    "    import pandas as pd\n",
    "    url = \"https://api.energy-charts.info/price?\"\n",
    "\n",
    "    location = \"bzn=\" + country_code\n",
    "    start= \"1546333200\"\n",
    "    stop= \"1735635600\"\n",
    "\n",
    "    req = requests.get(url + location + \"&start=\" + start + \"&end=\" + stop)\n",
    "    prices_data = req.json()\n",
    "    prices_df = pd.DataFrame(prices_data[\"price\"], prices_data[\"unix_seconds\"]).reset_index()\n",
    "    prices_df[\"datetime\"]= pd.to_datetime(prices_df['index'],unit='s')\n",
    "    prices_df.columns = [\"unix\", \"prices\", \"datetime\"]\n",
    "    prices_df[\"month\"] = prices_df[\"datetime\"].dt.month\n",
    "    prices_df[\"year\"] = prices_df[\"datetime\"].dt.year\n",
    "    grouped_prices = prices_df.groupby([\"year\", \"month\"] )[\"prices\"].mean()\n",
    "    grouped_prices = pd.DataFrame(grouped_prices).reset_index()\n",
    "    grouped_prices[\"date\"] = grouped_prices[\"year\"].astype(str) + \"-\" + grouped_prices[\"month\"].astype(str)\n",
    "    grouped_prices[\"date\"] = pd.to_datetime(grouped_prices['date'])\n",
    "    return grouped_prices\n"
   ]
  },
  {
   "cell_type": "code",
   "execution_count": 16,
   "metadata": {},
   "outputs": [],
   "source": [
    "import pandas as pd\n",
    "competitors = [\"DE-LU\", \"DK1\", \"FR\", \"NL\", \"PL\", \"NO2\"]\n",
    "for region in competitors:\n",
    "    df = create_price_dataframe(region)\n",
    "    df.to_csv(\"spot_price_\"+region, index=False)"
   ]
  }
 ],
 "metadata": {
  "kernelspec": {
   "display_name": "energy_invest",
   "language": "python",
   "name": "python3"
  },
  "language_info": {
   "codemirror_mode": {
    "name": "ipython",
    "version": 3
   },
   "file_extension": ".py",
   "mimetype": "text/x-python",
   "name": "python",
   "nbconvert_exporter": "python",
   "pygments_lexer": "ipython3",
   "version": "3.13.1"
  }
 },
 "nbformat": 4,
 "nbformat_minor": 2
}
